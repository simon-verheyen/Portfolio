{
 "cells": [
  {
   "cell_type": "markdown",
   "metadata": {},
   "source": [
    "# Standard start\n",
    "\n",
    "The dataframe_management script extracts the requested data in one df, indexed by year for either global or country specific.\n",
    "\n",
    "The my_tools script contains small functions to clean up data or plot graphs.\n",
    "\n",
    "Always first run the below cell."
   ]
  },
  {
   "cell_type": "code",
   "execution_count": 1,
   "metadata": {},
   "outputs": [],
   "source": [
    "import data_management as dmgnt\n",
    "import my_tools as mt"
   ]
  },
  {
   "cell_type": "markdown",
   "metadata": {},
   "source": [
    "The next cell contains all the data sets that are available, ordered per category.\n",
    "These are the exact attribute names that the get_data() functions accept.\n",
    "\n",
    "You can double click the below cell to expand it and make it easier to copy the names for searches."
   ]
  },
  {
   "cell_type": "markdown",
   "metadata": {},
   "source": [
    "#### Education: \n",
    "        primary_school_cost\n",
    "        primary_school_completion\n",
    "        \n",
    "#### health: \n",
    "        sanitation_access\n",
    "        water_access\n",
    "        life_expectancy\n",
    "        \n",
    "#### population: \n",
    "        child_mortality\n",
    "        ratio_child_and_elderly\n",
    "        children_per_mother\n",
    "        median_age\n",
    "        population_density, \n",
    "        population\n",
    "        \n",
    "#### wealth: \n",
    "        av_age_billionaires, \n",
    "        gdp_yearly_growth, \n",
    "        income_per_person, \n",
    "        inflation, \n",
    "        people_in_poverty, \n",
    "        tax_perc_gdp, \n",
    "        amount_billionaires\n",
    "        \n",
    "#### other: \n",
    "        co2_emissions, \n",
    "        corruption_ind, \n",
    "        hdi"
   ]
  },
  {
   "cell_type": "code",
   "execution_count": null,
   "metadata": {},
   "outputs": [],
   "source": []
  }
 ],
 "metadata": {
  "kernelspec": {
   "display_name": "Python 3",
   "language": "python",
   "name": "python3"
  },
  "language_info": {
   "codemirror_mode": {
    "name": "ipython",
    "version": 3
   },
   "file_extension": ".py",
   "mimetype": "text/x-python",
   "name": "python",
   "nbconvert_exporter": "python",
   "pygments_lexer": "ipython3",
   "version": "3.7.4"
  }
 },
 "nbformat": 4,
 "nbformat_minor": 2
}

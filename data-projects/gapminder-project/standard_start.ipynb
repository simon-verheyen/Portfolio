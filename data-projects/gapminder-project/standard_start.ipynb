{
 "cells": [
  {
   "cell_type": "markdown",
   "metadata": {},
   "source": [
    "# Standard start\n",
    "\n",
    "The dataframe_management script extracts the requested data in one df, indexed by year for either global or country specific.\n",
    "\n",
    "Possible criteria: \n",
    "'child_mortality' 'av_life_expencatcy' 'av_life_expectancy' 'income_per_person' 'population'\n",
    "\n",
    "The my_tools script contains small functions to clean up data or plot graphs."
   ]
  },
  {
   "cell_type": "code",
   "execution_count": 50,
   "metadata": {},
   "outputs": [],
   "source": [
    "import data_management as dmgnt\n",
    "import my_tools as mt"
   ]
  },
  {
   "cell_type": "code",
   "execution_count": null,
   "metadata": {},
   "outputs": [],
   "source": []
  }
 ],
 "metadata": {
  "kernelspec": {
   "display_name": "Python 3",
   "language": "python",
   "name": "python3"
  },
  "language_info": {
   "codemirror_mode": {
    "name": "ipython",
    "version": 3
   },
   "file_extension": ".py",
   "mimetype": "text/x-python",
   "name": "python",
   "nbconvert_exporter": "python",
   "pygments_lexer": "ipython3",
   "version": "3.7.4"
  }
 },
 "nbformat": 4,
 "nbformat_minor": 2
}

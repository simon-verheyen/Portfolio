{
 "cells": [
  {
   "cell_type": "markdown",
   "metadata": {},
   "source": [
    "THANKS TO MINUTE PHYSICS @ YOUTUBE"
   ]
  },
  {
   "cell_type": "code",
   "execution_count": 3,
   "metadata": {},
   "outputs": [],
   "source": [
    "import my_tools as mt\n",
    "import pandas as pd\n",
    "import matplotlib.pyplot as plt\n",
    "import datetime\n",
    "\n",
    "df_cases_new = mt.read_csv('cases_daily', 'New cases')\n",
    "df_cases_total = mt.read_csv('cases_total','Total cases')\n",
    "df_cases_weekly = mt.read_csv('cases_weekly', 'New cases weekly')\n",
    "\n",
    "df_deaths_new = mt.read_csv('deaths_daily', 'New deaths')\n",
    "df_deaths_total = mt.read_csv('deaths_total', 'Total deaths')\n",
    "df_deaths_weekly = mt.read_csv('deaths_weekly', 'New deaths weekly')\n",
    "\n",
    "df_prevalence = mt.read_csv('prevalence', 'Prevalence')\n",
    "df_incidence_daily = mt.read_csv('incidence_daily', 'Incidence daily')\n",
    "df_incidence_weekly = mt.read_csv('incidence_weekly', 'Incidence weekly')\n",
    "df_mortality = mt.read_csv('mortality', 'Mortality')\n",
    "\n",
    "df_global = mt.read_csv('global', 'Global data')\n",
    "\n",
    "df_thresholds = pd.read_csv('data/thresholds.csv').set_index('ind')\n",
    "\n",
    "today = datetime.date.today() - datetime.timedelta(days=1)\n",
    "\n",
    "countries = df_cases_new.columns\n",
    "dates = df_cases_new.index\n",
    "weekly_dates = df_cases_weekly.index"
   ]
  },
  {
   "cell_type": "code",
   "execution_count": 2,
   "metadata": {
    "scrolled": false
   },
   "outputs": [],
   "source": [
    "def create_table(countries=[]):\n",
    "    if countries == []:\n",
    "        countries = df_cases_new.columns\n",
    "    \n",
    "    ind = [[],[]]\n",
    "    dict_data = {}\n",
    "    \n",
    "    daily = []\n",
    "    weekly = []\n",
    "    total = []\n",
    "    \n",
    "    prevalence = []\n",
    "    incidence_daily = []\n",
    "    incidence_weekly = []\n",
    "    mortality = []\n",
    "    \n",
    "    for country in countries:\n",
    "        ind[0].append(country)\n",
    "        ind[0].append(country)\n",
    "        \n",
    "        ind[1].append('Cases')\n",
    "        ind[1].append('Deaths')\n",
    "        \n",
    "        daily.append(df_cases_new[country].values[-1])\n",
    "        daily.append(df_deaths_new[country].values[-1])\n",
    "        \n",
    "        weekly.append(df_cases_weekly[country].values[-1])\n",
    "        weekly.append(df_deaths_weekly[country].values[-1])\n",
    "        \n",
    "        total.append(df_cases_total[country].values[-1])\n",
    "        total.append(df_deaths_total[country].values[-1])\n",
    "        \n",
    "        prevalence.append(df_prevalence[country].values[-1])\n",
    "        prevalence.append(0)\n",
    "        \n",
    "        incidence_daily.append(df_incidence_daily[country].values[-1])\n",
    "        incidence_daily.append(0)\n",
    "        \n",
    "        incidence_weekly.append(df_incidence_weekly[country].values[-1])\n",
    "        incidence_weekly.append(0)\n",
    "        \n",
    "        mortality.append(0)\n",
    "        mortality.append(df_mortality[country].values[-1])\n",
    "    \n",
    "    dict_data['Daily'] = daily\n",
    "    dict_data['Weekly'] = weekly\n",
    "    dict_data['Total'] = total\n",
    "    \n",
    "    dict_data['Prevalence'] = prevalence\n",
    "    dict_data['Incidence daily'] = incidence_daily\n",
    "    dict_data['Incidence weekly'] = incidence_weekly\n",
    "    dict_data['Mortality'] = mortality\n",
    "    \n",
    "    df = pd.DataFrame(dict_data, index=ind)\n",
    "        \n",
    "    return df"
   ]
  },
  {
   "cell_type": "code",
   "execution_count": 9,
   "metadata": {
    "scrolled": false
   },
   "outputs": [
    {
     "data": {
      "text/html": [
       "<div>\n",
       "<style scoped>\n",
       "    .dataframe tbody tr th:only-of-type {\n",
       "        vertical-align: middle;\n",
       "    }\n",
       "\n",
       "    .dataframe tbody tr th {\n",
       "        vertical-align: top;\n",
       "    }\n",
       "\n",
       "    .dataframe thead th {\n",
       "        text-align: right;\n",
       "    }\n",
       "</style>\n",
       "<table border=\"1\" class=\"dataframe\">\n",
       "  <thead>\n",
       "    <tr style=\"text-align: right;\">\n",
       "      <th></th>\n",
       "      <th></th>\n",
       "      <th>Daily</th>\n",
       "      <th>Weekly</th>\n",
       "      <th>Total</th>\n",
       "      <th>Prevalence</th>\n",
       "      <th>Incidence daily</th>\n",
       "      <th>Incidence weekly</th>\n",
       "      <th>Mortality</th>\n",
       "    </tr>\n",
       "  </thead>\n",
       "  <tbody>\n",
       "    <tr>\n",
       "      <td rowspan=\"2\" valign=\"top\">Belgium</td>\n",
       "      <td>Cases</td>\n",
       "      <td>876</td>\n",
       "      <td>8498</td>\n",
       "      <td>12775</td>\n",
       "      <td>0.112%</td>\n",
       "      <td>0.008%</td>\n",
       "      <td>0.074%</td>\n",
       "      <td>0.000%</td>\n",
       "    </tr>\n",
       "    <tr>\n",
       "      <td>Deaths</td>\n",
       "      <td>192</td>\n",
       "      <td>438</td>\n",
       "      <td>705</td>\n",
       "      <td>0.000%</td>\n",
       "      <td>0.000%</td>\n",
       "      <td>0.000%</td>\n",
       "      <td>5.519%</td>\n",
       "    </tr>\n",
       "  </tbody>\n",
       "</table>\n",
       "</div>"
      ],
      "text/plain": [
       "                Daily  Weekly  Total  Prevalence Incidence daily  \\\n",
       "Belgium Cases     876    8498  12775      0.112%          0.008%   \n",
       "        Deaths    192     438    705      0.000%          0.000%   \n",
       "\n",
       "               Incidence weekly   Mortality  \n",
       "Belgium Cases            0.074%      0.000%  \n",
       "        Deaths           0.000%      5.519%  "
      ]
     },
     "metadata": {},
     "output_type": "display_data"
    }
   ],
   "source": [
    "countries_of_interest = ['Belgium']\n",
    "\n",
    "\n",
    "def get_highlights_mask(df):\n",
    "    mask = df.copy()\n",
    "    mask.loc[:,:] = 'color: black'\n",
    "\n",
    "    mask.loc[df['Prevalence'] > 0.001, ['Prevalence']] = 'color: red'\n",
    "    mask.loc[df['Incidence daily'] > 0.0001, ['Incidence daily']] = 'color: red'\n",
    "    mask.loc[df['Incidence weekly'] > 0.0005, ['Incidence weekly']] = 'color: red'\n",
    "    mask.loc[df['Mortality'] > 0.05, ['Mortality']] = 'color: red'\n",
    "\n",
    "    return mask    \n",
    "\n",
    "def show_perc(df):\n",
    "    col = ['Prevalence', 'Incidence daily', 'Incidence weekly', 'Mortality']\n",
    "    for c in col:\n",
    "        x = df[c]\n",
    "        df = df.astype({c: 'str'})\n",
    "\n",
    "        for ind in df.index:\n",
    "            perc = f'{x[ind] * 100 : 9.3f}%'\n",
    "            df.at[ind, c] = perc\n",
    "    \n",
    "    return df\n",
    "    \n",
    "def show_table(countries):\n",
    "    table = create_table(countries)\n",
    "    mask = get_highlights_mask(table)\n",
    "    table = show_perc(table)\n",
    "    table.style.applymap(mask, axis=None)\n",
    "    \n",
    "    display(table)\n",
    "    \n",
    "\n",
    "\n",
    "show_table(countries_of_interest)"
   ]
  },
  {
   "cell_type": "code",
   "execution_count": 6,
   "metadata": {},
   "outputs": [
    {
     "ename": "NameError",
     "evalue": "name 'table' is not defined",
     "output_type": "error",
     "traceback": [
      "\u001b[0;31m---------------------------------------------------------------------------\u001b[0m",
      "\u001b[0;31mNameError\u001b[0m                                 Traceback (most recent call last)",
      "\u001b[0;32m<ipython-input-6-02632ee0a9d8>\u001b[0m in \u001b[0;36m<module>\u001b[0;34m\u001b[0m\n\u001b[0;32m----> 1\u001b[0;31m \u001b[0mdisplay\u001b[0m\u001b[0;34m(\u001b[0m\u001b[0mtable\u001b[0m\u001b[0;34m)\u001b[0m\u001b[0;34m\u001b[0m\u001b[0;34m\u001b[0m\u001b[0m\n\u001b[0m\u001b[1;32m      2\u001b[0m \u001b[0mdisplay\u001b[0m\u001b[0;34m(\u001b[0m\u001b[0mmask\u001b[0m\u001b[0;34m)\u001b[0m\u001b[0;34m\u001b[0m\u001b[0;34m\u001b[0m\u001b[0m\n",
      "\u001b[0;31mNameError\u001b[0m: name 'table' is not defined"
     ]
    }
   ],
   "source": [
    "display(table)\n",
    "display(mask)"
   ]
  },
  {
   "cell_type": "code",
   "execution_count": 143,
   "metadata": {},
   "outputs": [
    {
     "ename": "TypeError",
     "evalue": "the first argument must be callable",
     "output_type": "error",
     "traceback": [
      "\u001b[0;31m---------------------------------------------------------------------------\u001b[0m",
      "\u001b[0;31mTypeError\u001b[0m                                 Traceback (most recent call last)",
      "\u001b[0;32m~/anaconda3/lib/python3.7/site-packages/IPython/core/formatters.py\u001b[0m in \u001b[0;36m__call__\u001b[0;34m(self, obj)\u001b[0m\n\u001b[1;32m    343\u001b[0m             \u001b[0mmethod\u001b[0m \u001b[0;34m=\u001b[0m \u001b[0mget_real_method\u001b[0m\u001b[0;34m(\u001b[0m\u001b[0mobj\u001b[0m\u001b[0;34m,\u001b[0m \u001b[0mself\u001b[0m\u001b[0;34m.\u001b[0m\u001b[0mprint_method\u001b[0m\u001b[0;34m)\u001b[0m\u001b[0;34m\u001b[0m\u001b[0;34m\u001b[0m\u001b[0m\n\u001b[1;32m    344\u001b[0m             \u001b[0;32mif\u001b[0m \u001b[0mmethod\u001b[0m \u001b[0;32mis\u001b[0m \u001b[0;32mnot\u001b[0m \u001b[0;32mNone\u001b[0m\u001b[0;34m:\u001b[0m\u001b[0;34m\u001b[0m\u001b[0;34m\u001b[0m\u001b[0m\n\u001b[0;32m--> 345\u001b[0;31m                 \u001b[0;32mreturn\u001b[0m \u001b[0mmethod\u001b[0m\u001b[0;34m(\u001b[0m\u001b[0;34m)\u001b[0m\u001b[0;34m\u001b[0m\u001b[0;34m\u001b[0m\u001b[0m\n\u001b[0m\u001b[1;32m    346\u001b[0m             \u001b[0;32mreturn\u001b[0m \u001b[0;32mNone\u001b[0m\u001b[0;34m\u001b[0m\u001b[0;34m\u001b[0m\u001b[0m\n\u001b[1;32m    347\u001b[0m         \u001b[0;32melse\u001b[0m\u001b[0;34m:\u001b[0m\u001b[0;34m\u001b[0m\u001b[0;34m\u001b[0m\u001b[0m\n",
      "\u001b[0;32m~/anaconda3/lib/python3.7/site-packages/pandas/io/formats/style.py\u001b[0m in \u001b[0;36m_repr_html_\u001b[0;34m(self)\u001b[0m\n\u001b[1;32m    162\u001b[0m         \u001b[0mHooks\u001b[0m \u001b[0minto\u001b[0m \u001b[0mJupyter\u001b[0m \u001b[0mnotebook\u001b[0m \u001b[0mrich\u001b[0m \u001b[0mdisplay\u001b[0m \u001b[0msystem\u001b[0m\u001b[0;34m.\u001b[0m\u001b[0;34m\u001b[0m\u001b[0;34m\u001b[0m\u001b[0m\n\u001b[1;32m    163\u001b[0m         \"\"\"\n\u001b[0;32m--> 164\u001b[0;31m         \u001b[0;32mreturn\u001b[0m \u001b[0mself\u001b[0m\u001b[0;34m.\u001b[0m\u001b[0mrender\u001b[0m\u001b[0;34m(\u001b[0m\u001b[0;34m)\u001b[0m\u001b[0;34m\u001b[0m\u001b[0;34m\u001b[0m\u001b[0m\n\u001b[0m\u001b[1;32m    165\u001b[0m \u001b[0;34m\u001b[0m\u001b[0m\n\u001b[1;32m    166\u001b[0m     @Appender(\n",
      "\u001b[0;32m~/anaconda3/lib/python3.7/site-packages/pandas/io/formats/style.py\u001b[0m in \u001b[0;36mrender\u001b[0;34m(self, **kwargs)\u001b[0m\n\u001b[1;32m    516\u001b[0m         \u001b[0;34m*\u001b[0m \u001b[0mtable_attributes\u001b[0m\u001b[0;34m\u001b[0m\u001b[0;34m\u001b[0m\u001b[0m\n\u001b[1;32m    517\u001b[0m         \"\"\"\n\u001b[0;32m--> 518\u001b[0;31m         \u001b[0mself\u001b[0m\u001b[0;34m.\u001b[0m\u001b[0m_compute\u001b[0m\u001b[0;34m(\u001b[0m\u001b[0;34m)\u001b[0m\u001b[0;34m\u001b[0m\u001b[0;34m\u001b[0m\u001b[0m\n\u001b[0m\u001b[1;32m    519\u001b[0m         \u001b[0;31m# TODO: namespace all the pandas keys\u001b[0m\u001b[0;34m\u001b[0m\u001b[0;34m\u001b[0m\u001b[0;34m\u001b[0m\u001b[0m\n\u001b[1;32m    520\u001b[0m         \u001b[0md\u001b[0m \u001b[0;34m=\u001b[0m \u001b[0mself\u001b[0m\u001b[0;34m.\u001b[0m\u001b[0m_translate\u001b[0m\u001b[0;34m(\u001b[0m\u001b[0;34m)\u001b[0m\u001b[0;34m\u001b[0m\u001b[0;34m\u001b[0m\u001b[0m\n",
      "\u001b[0;32m~/anaconda3/lib/python3.7/site-packages/pandas/io/formats/style.py\u001b[0m in \u001b[0;36m_compute\u001b[0;34m(self)\u001b[0m\n\u001b[1;32m    589\u001b[0m         \u001b[0mr\u001b[0m \u001b[0;34m=\u001b[0m \u001b[0mself\u001b[0m\u001b[0;34m\u001b[0m\u001b[0;34m\u001b[0m\u001b[0m\n\u001b[1;32m    590\u001b[0m         \u001b[0;32mfor\u001b[0m \u001b[0mfunc\u001b[0m\u001b[0;34m,\u001b[0m \u001b[0margs\u001b[0m\u001b[0;34m,\u001b[0m \u001b[0mkwargs\u001b[0m \u001b[0;32min\u001b[0m \u001b[0mself\u001b[0m\u001b[0;34m.\u001b[0m\u001b[0m_todo\u001b[0m\u001b[0;34m:\u001b[0m\u001b[0;34m\u001b[0m\u001b[0;34m\u001b[0m\u001b[0m\n\u001b[0;32m--> 591\u001b[0;31m             \u001b[0mr\u001b[0m \u001b[0;34m=\u001b[0m \u001b[0mfunc\u001b[0m\u001b[0;34m(\u001b[0m\u001b[0mself\u001b[0m\u001b[0;34m)\u001b[0m\u001b[0;34m(\u001b[0m\u001b[0;34m*\u001b[0m\u001b[0margs\u001b[0m\u001b[0;34m,\u001b[0m \u001b[0;34m**\u001b[0m\u001b[0mkwargs\u001b[0m\u001b[0;34m)\u001b[0m\u001b[0;34m\u001b[0m\u001b[0;34m\u001b[0m\u001b[0m\n\u001b[0m\u001b[1;32m    592\u001b[0m         \u001b[0;32mreturn\u001b[0m \u001b[0mr\u001b[0m\u001b[0;34m\u001b[0m\u001b[0;34m\u001b[0m\u001b[0m\n\u001b[1;32m    593\u001b[0m \u001b[0;34m\u001b[0m\u001b[0m\n",
      "\u001b[0;32m~/anaconda3/lib/python3.7/site-packages/pandas/io/formats/style.py\u001b[0m in \u001b[0;36m_applymap\u001b[0;34m(self, func, subset, **kwargs)\u001b[0m\n\u001b[1;32m    680\u001b[0m \u001b[0;34m\u001b[0m\u001b[0m\n\u001b[1;32m    681\u001b[0m     \u001b[0;32mdef\u001b[0m \u001b[0m_applymap\u001b[0m\u001b[0;34m(\u001b[0m\u001b[0mself\u001b[0m\u001b[0;34m,\u001b[0m \u001b[0mfunc\u001b[0m\u001b[0;34m,\u001b[0m \u001b[0msubset\u001b[0m\u001b[0;34m=\u001b[0m\u001b[0;32mNone\u001b[0m\u001b[0;34m,\u001b[0m \u001b[0;34m**\u001b[0m\u001b[0mkwargs\u001b[0m\u001b[0;34m)\u001b[0m\u001b[0;34m:\u001b[0m\u001b[0;34m\u001b[0m\u001b[0;34m\u001b[0m\u001b[0m\n\u001b[0;32m--> 682\u001b[0;31m         \u001b[0mfunc\u001b[0m \u001b[0;34m=\u001b[0m \u001b[0mpartial\u001b[0m\u001b[0;34m(\u001b[0m\u001b[0mfunc\u001b[0m\u001b[0;34m,\u001b[0m \u001b[0;34m**\u001b[0m\u001b[0mkwargs\u001b[0m\u001b[0;34m)\u001b[0m  \u001b[0;31m# applymap doesn't take kwargs?\u001b[0m\u001b[0;34m\u001b[0m\u001b[0;34m\u001b[0m\u001b[0m\n\u001b[0m\u001b[1;32m    683\u001b[0m         \u001b[0;32mif\u001b[0m \u001b[0msubset\u001b[0m \u001b[0;32mis\u001b[0m \u001b[0;32mNone\u001b[0m\u001b[0;34m:\u001b[0m\u001b[0;34m\u001b[0m\u001b[0;34m\u001b[0m\u001b[0m\n\u001b[1;32m    684\u001b[0m             \u001b[0msubset\u001b[0m \u001b[0;34m=\u001b[0m \u001b[0mpd\u001b[0m\u001b[0;34m.\u001b[0m\u001b[0mIndexSlice\u001b[0m\u001b[0;34m[\u001b[0m\u001b[0;34m:\u001b[0m\u001b[0;34m]\u001b[0m\u001b[0;34m\u001b[0m\u001b[0;34m\u001b[0m\u001b[0m\n",
      "\u001b[0;31mTypeError\u001b[0m: the first argument must be callable"
     ]
    },
    {
     "data": {
      "text/plain": [
       "<pandas.io.formats.style.Styler at 0x7f7b8d87e910>"
      ]
     },
     "execution_count": 143,
     "metadata": {},
     "output_type": "execute_result"
    }
   ],
   "source": [
    "table.style.applymap(mask, axis=None)"
   ]
  },
  {
   "cell_type": "code",
   "execution_count": 7,
   "metadata": {},
   "outputs": [],
   "source": [
    "y = mt.threshold_data(df_cases_weekly, 'cases', 'daily')\n",
    "x = mt.threshold_data(df_cases_total, 'cases', 'weekly')"
   ]
  },
  {
   "cell_type": "code",
   "execution_count": 12,
   "metadata": {},
   "outputs": [
    {
     "data": {
      "image/png": "[encoded data removed]",
      "text/plain": [
       "<Figure size 432x288 with 1 Axes>"
      ]
     },
     "metadata": {
      "needs_background": "light"
     },
     "output_type": "display_data"
    }
   ],
   "source": [
    "plt.plot(x, y)\n",
    "plt.yscale('log')\n",
    "plt.xscale('log')\n",
    "plt.show()"
   ]
  },
  {
   "cell_type": "code",
   "execution_count": null,
   "metadata": {},
   "outputs": [],
   "source": []
  }
 ],
 "metadata": {
  "kernelspec": {
   "display_name": "Python 3",
   "language": "python",
   "name": "python3"
  },
  "language_info": {
   "codemirror_mode": {
    "name": "ipython",
    "version": 3
   },
   "file_extension": ".py",
   "mimetype": "text/x-python",
   "name": "python",
   "nbconvert_exporter": "python",
   "pygments_lexer": "ipython3",
   "version": "3.7.4"
  }
 },
 "nbformat": 4,
 "nbformat_minor": 2
}
